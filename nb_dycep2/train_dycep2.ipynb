{
 "cells": [
  {
   "cell_type": "code",
   "execution_count": 1,
   "metadata": {},
   "outputs": [
    {
     "name": "stdout",
     "output_type": "stream",
     "text": [
      "expandable_segments:True\n"
     ]
    }
   ],
   "source": [
    "PATH = \"/media/maxine/c8f4bcb2-c1fe-4676-877d-8e476418f5e5/0-RPE-cell-timelapse/\"\n",
    "from modules.learning.models import *\n",
    "from modules.learning.train import train_model\n",
    "from modules.utils import hc\n",
    "from modules.visualize import plot_loss, plot_normalized_time_error\n",
    "\n",
    "# from modules.learning.evaluate import Evaluation, get_latent_space, plot_umap\n",
    "from matplotlib import pyplot as plt\n",
    "from modules.learning.dycep_vit import DYCEP2\n",
    "import json\n",
    "\n",
    "DEVICE = \"cuda\" if torch.cuda.is_available() else \"cpu\"\n",
    "# enet = EfficientNet()\n",
    "\n",
    "\n",
    "track_path = PATH + \"track_datasets/control_mm/train/images/\"\n",
    "label_path = PATH + \"track_datasets/control_mm/train/labels/\"\n",
    "embeddings_path = PATH + \"track_datasets/control_mm/train/embeddings/\"\n",
    "\n",
    "in_channels = [1]"
   ]
  },
  {
   "cell_type": "markdown",
   "metadata": {},
   "source": [
    "# training mamba model"
   ]
  },
  {
   "cell_type": "code",
   "execution_count": 2,
   "metadata": {},
   "outputs": [
    {
     "name": "stdout",
     "output_type": "stream",
     "text": [
      "torch.Size([228, 768])\n"
     ]
    },
    {
     "data": {
      "text/plain": [
       "torch.Size([1, 228, 2])"
      ]
     },
     "execution_count": 2,
     "metadata": {},
     "output_type": "execute_result"
    }
   ],
   "source": [
    "model = DYCEP2()\n",
    "model.to(DEVICE)\n",
    "\n",
    "#########\n",
    "# test on one track\n",
    "#########\n",
    "\n",
    "track_name = \"0607.1629.npy\"\n",
    "# getting one sequence to check the model\n",
    "imgs = torch.tensor(\n",
    "    np.load(track_path + track_name, allow_pickle=True),\n",
    "    dtype=torch.float32,\n",
    ")[:, in_channels, :, :]\n",
    "\n",
    "\n",
    "label = torch.tensor(\n",
    "    np.load(label_path + track_name).reshape(2, -1).T,\n",
    "    dtype=torch.float32,\n",
    ")\n",
    "\n",
    "emb = torch.tensor(\n",
    "    np.load(embeddings_path + track_name),\n",
    "    dtype=torch.float32,\n",
    ")\n",
    "\n",
    "print(emb.shape)\n",
    "\n",
    "imgs, label, emb = imgs.to(DEVICE), label.to(DEVICE), emb.to(DEVICE)\n",
    "\n",
    "zz = model.forward(emb[None, :, :])\n",
    "# zz = zz.detach().cpu().numpy().squeeze()\n",
    "# plt.plot(zz)\n",
    "# print(\"min max\")\n",
    "# print(zz.min(0), zz.max(0))\n",
    "# print(hc(model), \"Parameters\")\n",
    "zz.shape"
   ]
  },
  {
   "cell_type": "code",
   "execution_count": 3,
   "metadata": {},
   "outputs": [
    {
     "data": {
      "text/plain": [
       "<matplotlib.image.AxesImage at 0x76a7f4940be0>"
      ]
     },
     "execution_count": 3,
     "metadata": {},
     "output_type": "execute_result"
    },
    {
     "data": {
      "image/png": "[encoded data removed]",
      "text/plain": [
       "<Figure size 640x480 with 1 Axes>"
      ]
     },
     "metadata": {},
     "output_type": "display_data"
    }
   ],
   "source": [
    "imgs.shape\n",
    "imgs = torch.tensor(\n",
    "    np.load(track_path + track_name, allow_pickle=True),\n",
    "    dtype=torch.float32,\n",
    ")[:, :, :, :]\n",
    "\n",
    "plt.imshow(imgs[10, 1, :, :].detach().cpu().numpy())"
   ]
  },
  {
   "cell_type": "code",
   "execution_count": null,
   "metadata": {},
   "outputs": [
    {
     "name": "stdout",
     "output_type": "stream",
     "text": [
      "Epoch 1/1\n"
     ]
    },
    {
     "name": "stderr",
     "output_type": "stream",
     "text": [
      "ERROR:tornado.general:SEND Error: Host unreachable\n"
     ]
    }
   ],
   "source": [
    "train_model(\n",
    "    directory=PATH + \"track_datasets/control_mm/\",\n",
    "    model=model,\n",
    "    # pass [1] for only BF channel, or [1,1,1] for 3 times the same channel\n",
    "    # or [0,1,2] for all channels\n",
    "    img_channels=in_channels,\n",
    "    batch_size=5,\n",
    "    learning_rate=1e-5,\n",
    "    slice_p=0.5,\n",
    "    slice_len=20,\n",
    "    random_len=True,\n",
    "    name=\"DYCEP\",\n",
    "    num_epochs=1,\n",
    ")"
   ]
  },
  {
   "cell_type": "markdown",
   "metadata": {},
   "source": [
    "# Example to swap temporal encoders"
   ]
  },
  {
   "cell_type": "code",
   "execution_count": 2,
   "metadata": {},
   "outputs": [],
   "source": [
    "from modules.learning.time_encoders.transformer import SmallTransformerEncoder\n",
    "from torch import nn\n",
    "\n",
    "in_channels = [1]\n",
    "\n",
    "temporal_encoder_dim = 256\n",
    "\n",
    "temporal_encoder_n_layers = 6\n",
    "transformer_n_layers = 5\n",
    "\n",
    "torch_transformer_temporal_encoder = nn.TransformerEncoder(\n",
    "    nn.TransformerEncoderLayer(\n",
    "        d_model=temporal_encoder_dim,\n",
    "        nhead=8,\n",
    "        dim_feedforward=temporal_encoder_dim * 2,\n",
    "        batch_first=True,\n",
    "    ),\n",
    "    num_layers=transformer_n_layers,\n",
    ")\n",
    "transformer_temporal_encoder = SmallTransformerEncoder(\n",
    "    d_model=temporal_encoder_dim, num_layers=temporal_encoder_n_layers\n",
    ")\n",
    "\n",
    "lstm_temporal_encoder = nn.LSTM(\n",
    "        input_size=temporal_encoder_dim,\n",
    "        hidden_size=temporal_encoder_dim,\n",
    "        num_layers=temporal_encoder_n_layers,\n",
    "        batch_first=True,\n",
    "        bidirectional=False,\n",
    "    )\n"
   ]
  },
  {
   "cell_type": "code",
   "execution_count": 3,
   "metadata": {},
   "outputs": [],
   "source": [
    "model = DYCEP(\n",
    "    cnn_in_channels=len(in_channels),\n",
    "    mamba_z_dim=temporal_encoder_dim,\n",
    "    mamba_n_layers=temporal_encoder_n_layers,\n",
    ")\n",
    "model_transformer = DYCEP(\n",
    "    cnn_in_channels=len(in_channels), temporal_encoder=transformer_temporal_encoder\n",
    ")\n",
    "\n",
    "model_torch_transformer = DYCEP(\n",
    "    cnn_in_channels=len(in_channels),\n",
    "    temporal_encoder=torch_transformer_temporal_encoder,\n",
    ")\n",
    "\n",
    "model_lstm = DYCEP(\n",
    "    cnn_in_channels=len(in_channels), temporal_encoder=lstm_temporal_encoder\n",
    ")"
   ]
  },
  {
   "cell_type": "code",
   "execution_count": 4,
   "metadata": {},
   "outputs": [
    {
     "name": "stdout",
     "output_type": "stream",
     "text": [
      "transformer model has 3.31M parameters\n",
      "lstm model has 3.83M parameters\n",
      "mamba model has 3.30M parameters\n"
     ]
    }
   ],
   "source": [
    "from modules.utils import hc\n",
    "\n",
    "print(f\"transformer model has {hc(model_torch_transformer)} parameters\")\n",
    "print(f\"lstm model has {hc(model_lstm)} parameters\")\n",
    "print(f\"mamba model has {hc(model)} parameters\")"
   ]
  },
  {
   "cell_type": "code",
   "execution_count": null,
   "metadata": {},
   "outputs": [
    {
     "name": "stdout",
     "output_type": "stream",
     "text": [
      "Epoch 1/2\n"
     ]
    },
    {
     "name": "stderr",
     "output_type": "stream",
     "text": [
      "100%|██████████| 1038/1038 [02:30<00:00,  6.91it/s]\n",
      "100%|██████████| 72/72 [00:04<00:00, 14.87it/s]\n"
     ]
    },
    {
     "name": "stdout",
     "output_type": "stream",
     "text": [
      "    Train Loss: 0.100, Test Loss: 0.064\n",
      "    Train R2: -0.175, Test R2: 0.256\n",
      "Epoch 2/2\n"
     ]
    },
    {
     "name": "stderr",
     "output_type": "stream",
     "text": [
      "100%|██████████| 1038/1038 [02:31<00:00,  6.86it/s]\n",
      "100%|██████████| 72/72 [00:04<00:00, 14.67it/s]"
     ]
    },
    {
     "name": "stdout",
     "output_type": "stream",
     "text": [
      "    Train Loss: 0.054, Test Loss: 0.050\n",
      "    Train R2: 0.353, Test R2: 0.426\n"
     ]
    },
    {
     "name": "stderr",
     "output_type": "stream",
     "text": [
      "\n"
     ]
    },
    {
     "data": {
      "text/plain": [
       "'Done!'"
      ]
     },
     "execution_count": 6,
     "metadata": {},
     "output_type": "execute_result"
    },
    {
     "ename": "",
     "evalue": "",
     "output_type": "error",
     "traceback": [
      "\u001b[1;31mThe Kernel crashed while executing code in the current cell or a previous cell. \n",
      "\u001b[1;31mPlease review the code in the cell(s) to identify a possible cause of the failure. \n",
      "\u001b[1;31mClick <a href='https://aka.ms/vscodeJupyterKernelCrash'>here</a> for more info. \n",
      "\u001b[1;31mView Jupyter <a href='command:jupyter.viewOutput'>log</a> for further details."
     ]
    }
   ],
   "source": [
    "train_model(\n",
    "    directory=PATH + \"track_datasets/control_mm/\",\n",
    "    model=model_lstm,\n",
    "    # pass [1] for only BF channel, or [1,1,1] for 3 times the same channel\n",
    "    # or [0,1,2] for all channels\n",
    "    img_channels=in_channels,\n",
    "    batch_size=5,\n",
    "    learning_rate=1e-4,\n",
    "    slice_p=0.0,\n",
    "    slice_len=20,\n",
    "    random_len=True,\n",
    "    name=\"DYCEP\",\n",
    "    num_epochs=2,\n",
    ")"
   ]
  },
  {
   "cell_type": "code",
   "execution_count": 6,
   "metadata": {},
   "outputs": [
    {
     "data": {
      "text/plain": [
       "str"
      ]
     },
     "execution_count": 6,
     "metadata": {},
     "output_type": "execute_result"
    }
   ],
   "source": [
    "model.temporal_encoder.type\n",
    "\n",
    "# get method name from model.temporal_encode\n",
    "type(model_torch_transformer.temporal_encoder.__class__.__name__)"
   ]
  },
  {
   "cell_type": "code",
   "execution_count": 19,
   "metadata": {},
   "outputs": [
    {
     "name": "stdout",
     "output_type": "stream",
     "text": [
      "Current date and time in YYYYMMDDHHMM format: 2025_01_07_16_32\n"
     ]
    }
   ],
   "source": [
    "import datetime\n",
    "\n",
    "def format_date_yyyymmddhhmm(datetime_obj):\n",
    "  \"\"\"\n",
    "  Formats a datetime object into a string with the format YYYYMMDDHHMM.\n",
    "\n",
    "  Args:\n",
    "    datetime_obj: A datetime.datetime object.\n",
    "\n",
    "  Returns:\n",
    "    A string representing the date and time in YYYYMMDDHHMM format.\n",
    "  \"\"\"\n",
    "  return datetime_obj.strftime(\"%Y_%m_%d_%H_%M\")\n",
    "\n",
    "# Example usage:\n",
    "now = datetime.datetime.now()\n",
    "formatted_datetime = format_date_yyyymmddhhmm(now)\n",
    "print(f\"Current date and time in YYYYMMDDHHMM format: {formatted_datetime}\")\n",
    "\n",
    "\n"
   ]
  },
  {
   "cell_type": "markdown",
   "metadata": {},
   "source": [
    "# Go to result_dycep notebook"
   ]
  },
  {
   "cell_type": "markdown",
   "metadata": {},
   "source": []
  }
 ],
 "metadata": {
  "kernelspec": {
   "display_name": "star",
   "language": "python",
   "name": "python3"
  },
  "language_info": {
   "codemirror_mode": {
    "name": "ipython",
    "version": 3
   },
   "file_extension": ".py",
   "mimetype": "text/x-python",
   "name": "python",
   "nbconvert_exporter": "python",
   "pygments_lexer": "ipython3",
   "version": "3.8.18"
  }
 },
 "nbformat": 4,
 "nbformat_minor": 2
}
